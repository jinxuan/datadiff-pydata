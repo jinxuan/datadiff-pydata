{
 "cells": [
  {
   "cell_type": "code",
   "execution_count": 1,
   "id": "1b55b823-5932-4344-8fe3-83fd856d8e17",
   "metadata": {
    "editable": true,
    "slideshow": {
     "slide_type": "skip"
    },
    "tags": []
   },
   "outputs": [
    {
     "name": "stderr",
     "output_type": "stream",
     "text": [
      "/tmp/ipykernel_39778/1184598064.py:3: UserWarning: Python 3.12 and above currently is not supported by Spark and Ray. Please note that some functionality will not work and currently is not supported.\n",
      "  import datacompy\n",
      "/tmp/ipykernel_39778/1184598064.py:3: UserWarning: SparkPandasCompare currently only supports Numpy < 2.Please note that the SparkPandasCompare functionality will not work and currently is not supported.\n",
      "  import datacompy\n"
     ]
    }
   ],
   "source": [
    "import pandas as pd\n",
    "import duckdb\n",
    "import datacompy\n",
    "import numpy as np\n",
    "import time\n",
    "import psutil\n",
    "import os\n",
    "con = duckdb.connect()\n"
   ]
  },
  {
   "cell_type": "code",
   "execution_count": 22,
   "id": "ba235124-7455-4c0d-acc6-bd6fe9bdb09e",
   "metadata": {
    "editable": true,
    "slideshow": {
     "slide_type": "skip"
    },
    "tags": []
   },
   "outputs": [],
   "source": [
    "from IPython.display import display_html\n",
    "from itertools import chain,cycle\n",
    "def display_side_by_side(*args,titles=cycle([''])):\n",
    "    html_str=''\n",
    "    for df,title in zip(args, chain(titles,cycle(['</br>'])) ):\n",
    "        html_str+='<th style=\"text-align:center\"><td style=\"vertical-align:top\">'\n",
    "        html_str+=f'<h2 style=\"text-align: center;\">{title}</h2>'\n",
    "        html_str+=df.to_html().replace('table','table style=\"display:inline\"')\n",
    "        html_str+='</td></th>'\n",
    "    display_html(html_str,raw=True)"
   ]
  },
  {
   "cell_type": "markdown",
   "id": "ec04442d-174a-46b6-83fb-9b8ea097ac9d",
   "metadata": {
    "editable": true,
    "slideshow": {
     "slide_type": "fragment"
    },
    "tags": []
   },
   "source": [
    "# 1 Check if dataframe is equal"
   ]
  },
  {
   "cell_type": "markdown",
   "id": "26f1d560-734d-40d1-8c59-ee0a98b31817",
   "metadata": {
    "editable": true,
    "slideshow": {
     "slide_type": "slide"
    },
    "tags": []
   },
   "source": [
    "## Pandas"
   ]
  },
  {
   "cell_type": "code",
   "execution_count": 2,
   "id": "7739b693-cef9-407d-b2c0-255937cbabda",
   "metadata": {
    "editable": true,
    "slideshow": {
     "slide_type": "fragment"
    },
    "tags": []
   },
   "outputs": [
    {
     "name": "stdout",
     "output_type": "stream",
     "text": [
      "DataFrames df1, df2 are equal.\n",
      "DataFrames df1, df3 not equal.\n"
     ]
    }
   ],
   "source": [
    "# Pandas\n",
    "from pandas.testing import assert_frame_equal\n",
    "\n",
    "# Create two identical DataFrames\n",
    "df1 = pd.DataFrame({'A': [1, 2], 'B': [3, 4]})\n",
    "df2 = pd.DataFrame({'A': [1, 2], 'B': [3, 4]})\n",
    "df3 = pd.DataFrame({'A': [1, 2], 'B': [3, 5]})\n",
    "# Assert they are equal\n",
    "assert_frame_equal(df1, df2) # <----\n",
    "print(\"DataFrames df1, df2 are equal.\")\n",
    "try:\n",
    "    assert_frame_equal(df1, df3)\n",
    "except AssertionError:\n",
    "    print(\"DataFrames df1, df3 not equal.\")"
   ]
  },
  {
   "cell_type": "markdown",
   "id": "af8daa5d-96ca-4c90-8312-bb93fb9fa2ff",
   "metadata": {
    "editable": true,
    "slideshow": {
     "slide_type": "slide"
    },
    "tags": []
   },
   "source": [
    "## DuckDB"
   ]
  },
  {
   "cell_type": "code",
   "execution_count": 3,
   "id": "c9f0f185-09e6-4175-adbe-7c4340478f2b",
   "metadata": {
    "editable": true,
    "slideshow": {
     "slide_type": "fragment"
    },
    "tags": []
   },
   "outputs": [
    {
     "name": "stdout",
     "output_type": "stream",
     "text": [
      "DataFrames df1, df2 are equal.\n"
     ]
    }
   ],
   "source": [
    "# Use DuckDB\n",
    "con.register('df1', df1)\n",
    "con.register('df2', df2)\n",
    "\n",
    "# Check for discrepancies\n",
    "discrepancies = con.execute(\"\"\"\n",
    "    SELECT * FROM df1\n",
    "    EXCEPT ALL\n",
    "    SELECT * FROM df2\n",
    "\"\"\").df()\n",
    "\n",
    "if discrepancies.empty:\n",
    "    print(\"DataFrames df1, df2 are equal.\")"
   ]
  },
  {
   "cell_type": "markdown",
   "id": "fb5c13b9-7a14-4af1-896a-53192e60eb4a",
   "metadata": {
    "editable": true,
    "slideshow": {
     "slide_type": "slide"
    },
    "tags": []
   },
   "source": [
    "# 2. Finding Discrepancies Between DataFrames"
   ]
  },
  {
   "cell_type": "markdown",
   "id": "1acf8d0e-0ff2-4112-b4a0-91b3dd34d248",
   "metadata": {
    "editable": true,
    "slideshow": {
     "slide_type": "slide"
    },
    "tags": []
   },
   "source": [
    "## Pandas JOIN with indicator=True "
   ]
  },
  {
   "cell_type": "code",
   "execution_count": 4,
   "id": "a78c1e26-b01c-4660-bdfd-e1aaa552c70e",
   "metadata": {
    "editable": true,
    "slideshow": {
     "slide_type": ""
    },
    "tags": []
   },
   "outputs": [
    {
     "data": {
      "text/html": [
       "<div>\n",
       "<style scoped>\n",
       "    .dataframe tbody tr th:only-of-type {\n",
       "        vertical-align: middle;\n",
       "    }\n",
       "\n",
       "    .dataframe tbody tr th {\n",
       "        vertical-align: top;\n",
       "    }\n",
       "\n",
       "    .dataframe thead th {\n",
       "        text-align: right;\n",
       "    }\n",
       "</style>\n",
       "<table border=\"1\" class=\"dataframe\">\n",
       "  <thead>\n",
       "    <tr style=\"text-align: right;\">\n",
       "      <th></th>\n",
       "      <th>Key</th>\n",
       "      <th>Value</th>\n",
       "    </tr>\n",
       "  </thead>\n",
       "  <tbody>\n",
       "    <tr>\n",
       "      <th>0</th>\n",
       "      <td>1</td>\n",
       "      <td>A</td>\n",
       "    </tr>\n",
       "    <tr>\n",
       "      <th>1</th>\n",
       "      <td>2</td>\n",
       "      <td>B</td>\n",
       "    </tr>\n",
       "    <tr>\n",
       "      <th>2</th>\n",
       "      <td>3</td>\n",
       "      <td>C</td>\n",
       "    </tr>\n",
       "  </tbody>\n",
       "</table>\n",
       "</div>"
      ],
      "text/plain": [
       "   Key Value\n",
       "0    1     A\n",
       "1    2     B\n",
       "2    3     C"
      ]
     },
     "metadata": {},
     "output_type": "display_data"
    },
    {
     "data": {
      "text/html": [
       "<div>\n",
       "<style scoped>\n",
       "    .dataframe tbody tr th:only-of-type {\n",
       "        vertical-align: middle;\n",
       "    }\n",
       "\n",
       "    .dataframe tbody tr th {\n",
       "        vertical-align: top;\n",
       "    }\n",
       "\n",
       "    .dataframe thead th {\n",
       "        text-align: right;\n",
       "    }\n",
       "</style>\n",
       "<table border=\"1\" class=\"dataframe\">\n",
       "  <thead>\n",
       "    <tr style=\"text-align: right;\">\n",
       "      <th></th>\n",
       "      <th>Key</th>\n",
       "      <th>Value</th>\n",
       "    </tr>\n",
       "  </thead>\n",
       "  <tbody>\n",
       "    <tr>\n",
       "      <th>0</th>\n",
       "      <td>1</td>\n",
       "      <td>A</td>\n",
       "    </tr>\n",
       "    <tr>\n",
       "      <th>1</th>\n",
       "      <td>2</td>\n",
       "      <td>B</td>\n",
       "    </tr>\n",
       "    <tr>\n",
       "      <th>2</th>\n",
       "      <td>4</td>\n",
       "      <td>D</td>\n",
       "    </tr>\n",
       "  </tbody>\n",
       "</table>\n",
       "</div>"
      ],
      "text/plain": [
       "   Key Value\n",
       "0    1     A\n",
       "1    2     B\n",
       "2    4     D"
      ]
     },
     "metadata": {},
     "output_type": "display_data"
    }
   ],
   "source": [
    "df1 = pd.DataFrame({'Key': [1, 2, 3], 'Value': ['A', 'B', 'C']})\n",
    "df2 = pd.DataFrame({'Key': [1, 2, 4], 'Value': ['A', 'B', 'D']})\n",
    "con.register('df1', df1)\n",
    "con.register('df2', df2)\n",
    "display(df1)\n",
    "display(df2)"
   ]
  },
  {
   "cell_type": "code",
   "execution_count": 5,
   "id": "80f97042-2d47-4fc3-943c-8d67f2700ea2",
   "metadata": {
    "editable": true,
    "slideshow": {
     "slide_type": "slide"
    },
    "tags": []
   },
   "outputs": [
    {
     "data": {
      "text/html": [
       "<div>\n",
       "<style scoped>\n",
       "    .dataframe tbody tr th:only-of-type {\n",
       "        vertical-align: middle;\n",
       "    }\n",
       "\n",
       "    .dataframe tbody tr th {\n",
       "        vertical-align: top;\n",
       "    }\n",
       "\n",
       "    .dataframe thead th {\n",
       "        text-align: right;\n",
       "    }\n",
       "</style>\n",
       "<table border=\"1\" class=\"dataframe\">\n",
       "  <thead>\n",
       "    <tr style=\"text-align: right;\">\n",
       "      <th></th>\n",
       "      <th>Key</th>\n",
       "      <th>Value</th>\n",
       "      <th>_merge</th>\n",
       "    </tr>\n",
       "  </thead>\n",
       "  <tbody>\n",
       "    <tr>\n",
       "      <th>0</th>\n",
       "      <td>1</td>\n",
       "      <td>A</td>\n",
       "      <td>both</td>\n",
       "    </tr>\n",
       "    <tr>\n",
       "      <th>1</th>\n",
       "      <td>2</td>\n",
       "      <td>B</td>\n",
       "      <td>both</td>\n",
       "    </tr>\n",
       "    <tr>\n",
       "      <th>2</th>\n",
       "      <td>3</td>\n",
       "      <td>C</td>\n",
       "      <td>left_only</td>\n",
       "    </tr>\n",
       "    <tr>\n",
       "      <th>3</th>\n",
       "      <td>4</td>\n",
       "      <td>D</td>\n",
       "      <td>right_only</td>\n",
       "    </tr>\n",
       "  </tbody>\n",
       "</table>\n",
       "</div>"
      ],
      "text/plain": [
       "   Key Value      _merge\n",
       "0    1     A        both\n",
       "1    2     B        both\n",
       "2    3     C   left_only\n",
       "3    4     D  right_only"
      ]
     },
     "metadata": {},
     "output_type": "display_data"
    },
    {
     "data": {
      "text/html": [
       "<div>\n",
       "<style scoped>\n",
       "    .dataframe tbody tr th:only-of-type {\n",
       "        vertical-align: middle;\n",
       "    }\n",
       "\n",
       "    .dataframe tbody tr th {\n",
       "        vertical-align: top;\n",
       "    }\n",
       "\n",
       "    .dataframe thead th {\n",
       "        text-align: right;\n",
       "    }\n",
       "</style>\n",
       "<table border=\"1\" class=\"dataframe\">\n",
       "  <thead>\n",
       "    <tr style=\"text-align: right;\">\n",
       "      <th></th>\n",
       "      <th>Key</th>\n",
       "      <th>Value</th>\n",
       "      <th>_merge</th>\n",
       "    </tr>\n",
       "  </thead>\n",
       "  <tbody>\n",
       "    <tr>\n",
       "      <th>2</th>\n",
       "      <td>3</td>\n",
       "      <td>C</td>\n",
       "      <td>left_only</td>\n",
       "    </tr>\n",
       "    <tr>\n",
       "      <th>3</th>\n",
       "      <td>4</td>\n",
       "      <td>D</td>\n",
       "      <td>right_only</td>\n",
       "    </tr>\n",
       "  </tbody>\n",
       "</table>\n",
       "</div>"
      ],
      "text/plain": [
       "   Key Value      _merge\n",
       "2    3     C   left_only\n",
       "3    4     D  right_only"
      ]
     },
     "metadata": {},
     "output_type": "display_data"
    }
   ],
   "source": [
    "# Merge with indicator\n",
    "diff_df = df1.merge(df2, on=['Key', 'Value'], how='outer', indicator=True)\n",
    "display(diff_df)\n",
    "# Filter discrepancies\n",
    "display(diff_df[diff_df['_merge'] != 'both'])"
   ]
  },
  {
   "cell_type": "markdown",
   "id": "9389ad4a-652e-400c-9bd0-085d63c77c58",
   "metadata": {
    "editable": true,
    "slideshow": {
     "slide_type": "slide"
    },
    "tags": []
   },
   "source": [
    "## [DataComp library](https://capitalone.github.io/datacompy/)"
   ]
  },
  {
   "cell_type": "markdown",
   "id": "ea1ea4c9-bb22-4bdc-a2b3-47a5bf7e0438",
   "metadata": {
    "editable": true,
    "slideshow": {
     "slide_type": "notes"
    },
    "tags": []
   },
   "source": [
    "A package to compare two DataFrames, support pandas, spark and polar"
   ]
  },
  {
   "cell_type": "code",
   "execution_count": 6,
   "id": "5ccaf185-43a0-46be-858c-0418d620556d",
   "metadata": {
    "editable": true,
    "slideshow": {
     "slide_type": "fragment"
    },
    "tags": []
   },
   "outputs": [],
   "source": [
    "\n",
    "compare = datacompy.Compare(\n",
    "    df1,\n",
    "    df2,\n",
    "    join_columns=['Key', 'Value'], \n",
    "    df1_name='df1',\n",
    "    df2_name='df2')"
   ]
  },
  {
   "cell_type": "code",
   "execution_count": 7,
   "id": "97908905-4049-4780-8e93-622ae8e199a9",
   "metadata": {
    "editable": true,
    "slideshow": {
     "slide_type": ""
    },
    "tags": []
   },
   "outputs": [
    {
     "name": "stdout",
     "output_type": "stream",
     "text": [
      "   key value\n",
      "2    3     C\n"
     ]
    }
   ],
   "source": [
    "print(compare.df1_unq_rows)"
   ]
  },
  {
   "cell_type": "code",
   "execution_count": 8,
   "id": "ac6d12dc-a342-4e81-9d26-daa4e8ea6aba",
   "metadata": {
    "editable": true,
    "slideshow": {
     "slide_type": "slide"
    },
    "tags": []
   },
   "outputs": [
    {
     "name": "stdout",
     "output_type": "stream",
     "text": [
      "DataComPy Comparison\n",
      "--------------------\n",
      "\n",
      "DataFrame Summary\n",
      "-----------------\n",
      "\n",
      "  DataFrame  Columns  Rows\n",
      "0       df1        2     3\n",
      "1       df2        2     3\n",
      "\n",
      "Column Summary\n",
      "--------------\n",
      "\n",
      "Number of columns in common: 2\n",
      "Number of columns in df1 but not in df2: 0 []\n",
      "Number of columns in df2 but not in df1: 0 []\n",
      "\n",
      "Row Summary\n",
      "-----------\n",
      "\n",
      "Matched on: key, value\n",
      "Any duplicates on match values: No\n",
      "Absolute Tolerance: 0\n",
      "Relative Tolerance: 0\n",
      "Number of rows in common: 2\n",
      "Number of rows in df1 but not in df2: 1\n",
      "Number of rows in df2 but not in df1: 1\n",
      "\n",
      "Number of rows with some compared columns unequal: 0\n",
      "Number of rows with all compared columns equal: 2\n",
      "\n",
      "Column Comparison\n",
      "-----------------\n",
      "\n",
      "Number of columns compared with some values unequal: 0\n",
      "Number of columns compared with all values equal: 2\n",
      "Total number of values which compare unequal: 0\n",
      "\n",
      "Sample Rows Only in df1 (First 10 Columns)\n",
      "------------------------------------------\n",
      "\n",
      "   key value\n",
      "0    3     C\n",
      "\n",
      "Sample Rows Only in df2 (First 10 Columns)\n",
      "------------------------------------------\n",
      "\n",
      "   key value\n",
      "0    4     D\n",
      "\n",
      "\n"
     ]
    }
   ],
   "source": [
    "print(compare.report())"
   ]
  },
  {
   "cell_type": "markdown",
   "id": "58308100-99cd-4e6b-975e-0e699472bf8a",
   "metadata": {
    "editable": true,
    "slideshow": {
     "slide_type": ""
    },
    "tags": []
   },
   "source": [
    "[Benchmark provided by datacomp](https://capitalone.github.io/datacompy/benchmark.html)\n",
    "\n"
   ]
  },
  {
   "cell_type": "markdown",
   "id": "cf5ac1fd-1a35-4df6-95da-68d3a05580d5",
   "metadata": {
    "editable": true,
    "slideshow": {
     "slide_type": "slide"
    },
    "tags": []
   },
   "source": [
    "## DuckDB"
   ]
  },
  {
   "cell_type": "code",
   "execution_count": 9,
   "id": "e9792988-f373-4aad-8eb0-f8275ba56610",
   "metadata": {
    "editable": true,
    "slideshow": {
     "slide_type": "fragment"
    },
    "tags": []
   },
   "outputs": [
    {
     "name": "stdout",
     "output_type": "stream",
     "text": [
      "   Key Value\n",
      "0    3     C\n"
     ]
    }
   ],
   "source": [
    "anti_join_df = con.execute(\"\"\"\n",
    "    SELECT df1.*\n",
    "    FROM df1\n",
    "    ANTI JOIN df2\n",
    "    ON df1.Key = df2.Key AND df1.value = df2.value\n",
    "\"\"\").df()\n",
    "\n",
    "print(anti_join_df)"
   ]
  },
  {
   "cell_type": "markdown",
   "id": "fe045f2e-4fb8-44e6-9ab1-2a890254419c",
   "metadata": {
    "editable": true,
    "slideshow": {
     "slide_type": "slide"
    },
    "tags": []
   },
   "source": [
    "# 3. Fuzzy Temporal Data Diff, As of JOIN"
   ]
  },
  {
   "cell_type": "markdown",
   "id": "e7c50213-3550-4bc9-955a-7804b98f2038",
   "metadata": {
    "editable": true,
    "slideshow": {
     "slide_type": "slide"
    },
    "tags": []
   },
   "source": [
    "## Data preparation"
   ]
  },
  {
   "cell_type": "code",
   "execution_count": 24,
   "id": "925fa9c7-6e0a-48a9-a7fe-4e6b85b42bad",
   "metadata": {
    "editable": true,
    "slideshow": {
     "slide_type": "fragment"
    },
    "tags": []
   },
   "outputs": [
    {
     "data": {
      "text/html": [
       "<th style=\"text-align:center\"><td style=\"vertical-align:top\"><h2 style=\"text-align: center;\"></h2><table style=\"display:inline\" border=\"1\" class=\"dataframe\">\n",
       "  <thead>\n",
       "    <tr style=\"text-align: right;\">\n",
       "      <th></th>\n",
       "      <th>company</th>\n",
       "      <th>filing_date</th>\n",
       "      <th>revenue</th>\n",
       "      <th>net_income</th>\n",
       "    </tr>\n",
       "  </thead>\n",
       "  <tbody>\n",
       "    <tr>\n",
       "      <th>0</th>\n",
       "      <td>Company X</td>\n",
       "      <td>2021-02-25</td>\n",
       "      <td>500</td>\n",
       "      <td>50</td>\n",
       "    </tr>\n",
       "    <tr>\n",
       "      <th>1</th>\n",
       "      <td>Company Y</td>\n",
       "      <td>2021-03-01</td>\n",
       "      <td>800</td>\n",
       "      <td>80</td>\n",
       "    </tr>\n",
       "    <tr>\n",
       "      <th>2</th>\n",
       "      <td>Company Z</td>\n",
       "      <td>2021-03-05</td>\n",
       "      <td>600</td>\n",
       "      <td>60</td>\n",
       "    </tr>\n",
       "  </tbody>\n",
       "</table style=\"display:inline\"></td></th><th style=\"text-align:center\"><td style=\"vertical-align:top\"><h2 style=\"text-align: center;\"></h2><table style=\"display:inline\" border=\"1\" class=\"dataframe\">\n",
       "  <thead>\n",
       "    <tr style=\"text-align: right;\">\n",
       "      <th></th>\n",
       "      <th>company</th>\n",
       "      <th>filing_date</th>\n",
       "      <th>revenue</th>\n",
       "      <th>net_income</th>\n",
       "    </tr>\n",
       "  </thead>\n",
       "  <tbody>\n",
       "    <tr>\n",
       "      <th>0</th>\n",
       "      <td>Company X</td>\n",
       "      <td>2021-02-26</td>\n",
       "      <td>500</td>\n",
       "      <td>50</td>\n",
       "    </tr>\n",
       "    <tr>\n",
       "      <th>1</th>\n",
       "      <td>Company Y</td>\n",
       "      <td>2021-02-28</td>\n",
       "      <td>810</td>\n",
       "      <td>82</td>\n",
       "    </tr>\n",
       "    <tr>\n",
       "      <th>2</th>\n",
       "      <td>Company Z</td>\n",
       "      <td>2021-03-06</td>\n",
       "      <td>600</td>\n",
       "      <td>60</td>\n",
       "    </tr>\n",
       "  </tbody>\n",
       "</table style=\"display:inline\"></td></th>"
      ]
     },
     "metadata": {},
     "output_type": "display_data"
    }
   ],
   "source": [
    "# Data from Vendor A\n",
    "data_a = {\n",
    "    'company': ['Company X', 'Company Y', 'Company Z'],\n",
    "    'filing_date': pd.to_datetime(['2021-02-25', '2021-03-01', '2021-03-05']),\n",
    "    'revenue': [500, 800, 600],\n",
    "    'net_income': [50, 80, 60]\n",
    "}\n",
    "df_vendor_a = pd.DataFrame(data_a)\n",
    "# Data from Vendor B (filing dates slightly different)\n",
    "data_b = {\n",
    "    'company': ['Company X', 'Company Y', 'Company Z'],\n",
    "    'filing_date': pd.to_datetime(['2021-02-26', '2021-02-28', '2021-03-06']),\n",
    "    'revenue': [500, 810, 600],  # Note: Revenue for Company Y is different\n",
    "    'net_income': [50, 82, 60]   # Note: Net income for Company Y is different\n",
    "}\n",
    "df_vendor_b = pd.DataFrame(data_b)\n",
    "display_side_by_side(df_vendor_a, df_vendor_b)"
   ]
  },
  {
   "cell_type": "code",
   "execution_count": 11,
   "id": "72093d04-a5eb-400b-98e3-173189240e89",
   "metadata": {
    "editable": true,
    "slideshow": {
     "slide_type": "fragment"
    },
    "tags": []
   },
   "outputs": [],
   "source": [
    "df_vendor_a.sort_values(['company', 'filing_date'], inplace=True)\n",
    "df_vendor_b.sort_values(['company', 'filing_date'], inplace=True)\n",
    "df_vendor_b['filing_date_b'] = df_vendor_b['filing_date']"
   ]
  },
  {
   "cell_type": "code",
   "execution_count": 12,
   "id": "622ae12a-d1e5-4f30-9a8f-1bd400475e56",
   "metadata": {
    "editable": true,
    "slideshow": {
     "slide_type": "slide"
    },
    "tags": []
   },
   "outputs": [
    {
     "name": "stdout",
     "output_type": "stream",
     "text": [
      "Merged Data:\n"
     ]
    },
    {
     "data": {
      "text/html": [
       "<div>\n",
       "<style scoped>\n",
       "    .dataframe tbody tr th:only-of-type {\n",
       "        vertical-align: middle;\n",
       "    }\n",
       "\n",
       "    .dataframe tbody tr th {\n",
       "        vertical-align: top;\n",
       "    }\n",
       "\n",
       "    .dataframe thead th {\n",
       "        text-align: right;\n",
       "    }\n",
       "</style>\n",
       "<table border=\"1\" class=\"dataframe\">\n",
       "  <thead>\n",
       "    <tr style=\"text-align: right;\">\n",
       "      <th></th>\n",
       "      <th>company</th>\n",
       "      <th>filing_date</th>\n",
       "      <th>revenue_a</th>\n",
       "      <th>net_income_a</th>\n",
       "      <th>revenue_b</th>\n",
       "      <th>net_income_b</th>\n",
       "      <th>filing_date_b</th>\n",
       "    </tr>\n",
       "  </thead>\n",
       "  <tbody>\n",
       "    <tr>\n",
       "      <th>0</th>\n",
       "      <td>Company X</td>\n",
       "      <td>2021-02-25</td>\n",
       "      <td>500</td>\n",
       "      <td>50</td>\n",
       "      <td>500</td>\n",
       "      <td>50</td>\n",
       "      <td>2021-02-26</td>\n",
       "    </tr>\n",
       "    <tr>\n",
       "      <th>1</th>\n",
       "      <td>Company Y</td>\n",
       "      <td>2021-03-01</td>\n",
       "      <td>800</td>\n",
       "      <td>80</td>\n",
       "      <td>810</td>\n",
       "      <td>82</td>\n",
       "      <td>2021-02-28</td>\n",
       "    </tr>\n",
       "    <tr>\n",
       "      <th>2</th>\n",
       "      <td>Company Z</td>\n",
       "      <td>2021-03-05</td>\n",
       "      <td>600</td>\n",
       "      <td>60</td>\n",
       "      <td>600</td>\n",
       "      <td>60</td>\n",
       "      <td>2021-03-06</td>\n",
       "    </tr>\n",
       "  </tbody>\n",
       "</table>\n",
       "</div>"
      ],
      "text/plain": [
       "     company filing_date  revenue_a  net_income_a  revenue_b  net_income_b  \\\n",
       "0  Company X  2021-02-25        500            50        500            50   \n",
       "1  Company Y  2021-03-01        800            80        810            82   \n",
       "2  Company Z  2021-03-05        600            60        600            60   \n",
       "\n",
       "  filing_date_b  \n",
       "0    2021-02-26  \n",
       "1    2021-02-28  \n",
       "2    2021-03-06  "
      ]
     },
     "execution_count": 12,
     "metadata": {},
     "output_type": "execute_result"
    }
   ],
   "source": [
    "# Perform as-of join\n",
    "merged_df = pd.merge_asof(\n",
    "    df_vendor_a,\n",
    "    df_vendor_b,\n",
    "    on='filing_date', # We align the DataFrames based on the filing date.\n",
    "    by='company', # The as-of join is performed within each company.\n",
    "    direction='nearest', # Chooses the nearest filing date from Vendor B for each filing date in Vendor A.\n",
    "    tolerance=pd.Timedelta('2D'),  # Allow a 2-day difference in filing dates\n",
    "    suffixes=('_a', '_b')\n",
    ")\n",
    "\n",
    "print(\"Merged Data:\")\n",
    "merged_df"
   ]
  },
  {
   "cell_type": "code",
   "execution_count": 13,
   "id": "34abf591-ee8c-4b4d-b8f1-3288e899f39f",
   "metadata": {
    "editable": true,
    "slideshow": {
     "slide_type": "slide"
    },
    "tags": []
   },
   "outputs": [
    {
     "name": "stdout",
     "output_type": "stream",
     "text": [
      "\n",
      "Discrepancies Found with Increased Tolerance:\n"
     ]
    },
    {
     "data": {
      "text/html": [
       "<div>\n",
       "<style scoped>\n",
       "    .dataframe tbody tr th:only-of-type {\n",
       "        vertical-align: middle;\n",
       "    }\n",
       "\n",
       "    .dataframe tbody tr th {\n",
       "        vertical-align: top;\n",
       "    }\n",
       "\n",
       "    .dataframe thead th {\n",
       "        text-align: right;\n",
       "    }\n",
       "</style>\n",
       "<table border=\"1\" class=\"dataframe\">\n",
       "  <thead>\n",
       "    <tr style=\"text-align: right;\">\n",
       "      <th></th>\n",
       "      <th>company</th>\n",
       "      <th>filing_date</th>\n",
       "      <th>revenue_a</th>\n",
       "      <th>net_income_a</th>\n",
       "      <th>revenue_b</th>\n",
       "      <th>net_income_b</th>\n",
       "      <th>filing_date_b</th>\n",
       "      <th>revenue_discrepancy</th>\n",
       "      <th>net_income_discrepancy</th>\n",
       "    </tr>\n",
       "  </thead>\n",
       "  <tbody>\n",
       "    <tr>\n",
       "      <th>1</th>\n",
       "      <td>Company Y</td>\n",
       "      <td>2021-03-01</td>\n",
       "      <td>800</td>\n",
       "      <td>80</td>\n",
       "      <td>810</td>\n",
       "      <td>82</td>\n",
       "      <td>2021-02-28</td>\n",
       "      <td>True</td>\n",
       "      <td>True</td>\n",
       "    </tr>\n",
       "  </tbody>\n",
       "</table>\n",
       "</div>"
      ],
      "text/plain": [
       "     company filing_date  revenue_a  net_income_a  revenue_b  net_income_b  \\\n",
       "1  Company Y  2021-03-01        800            80        810            82   \n",
       "\n",
       "  filing_date_b  revenue_discrepancy  net_income_discrepancy  \n",
       "1    2021-02-28                 True                    True  "
      ]
     },
     "execution_count": 13,
     "metadata": {},
     "output_type": "execute_result"
    }
   ],
   "source": [
    "merged_df['revenue_discrepancy'] = merged_df['revenue_a'] != merged_df['revenue_b']\n",
    "merged_df['net_income_discrepancy'] = merged_df['net_income_a'] != merged_df['net_income_b']\n",
    "\n",
    "discrepancies = merged_df[\n",
    "    merged_df['revenue_discrepancy'] | merged_df['net_income_discrepancy']\n",
    "]\n",
    "\n",
    "print(\"\\nDiscrepancies Found with Increased Tolerance:\")\n",
    "discrepancies"
   ]
  },
  {
   "cell_type": "markdown",
   "id": "37cea97d-d710-4f35-8e23-67d583710873",
   "metadata": {
    "editable": true,
    "slideshow": {
     "slide_type": "slide"
    },
    "tags": []
   },
   "source": [
    "## DuckDB"
   ]
  },
  {
   "cell_type": "code",
   "execution_count": 14,
   "id": "9210e09a-036a-4461-8701-2c686ae80cac",
   "metadata": {
    "editable": true,
    "slideshow": {
     "slide_type": "skip"
    },
    "tags": []
   },
   "outputs": [
    {
     "data": {
      "text/plain": [
       "<duckdb.duckdb.DuckDBPyConnection at 0x7143c569e7f0>"
      ]
     },
     "execution_count": 14,
     "metadata": {},
     "output_type": "execute_result"
    }
   ],
   "source": [
    "con.register('vendor_a', df_vendor_a)\n",
    "con.register('vendor_b', df_vendor_b)"
   ]
  },
  {
   "cell_type": "code",
   "execution_count": 15,
   "id": "38c8ffbd-6d7b-43eb-93e3-7db75f446acf",
   "metadata": {
    "editable": true,
    "slideshow": {
     "slide_type": "fragment"
    },
    "tags": []
   },
   "outputs": [
    {
     "data": {
      "text/html": [
       "<div>\n",
       "<style scoped>\n",
       "    .dataframe tbody tr th:only-of-type {\n",
       "        vertical-align: middle;\n",
       "    }\n",
       "\n",
       "    .dataframe tbody tr th {\n",
       "        vertical-align: top;\n",
       "    }\n",
       "\n",
       "    .dataframe thead th {\n",
       "        text-align: right;\n",
       "    }\n",
       "</style>\n",
       "<table border=\"1\" class=\"dataframe\">\n",
       "  <thead>\n",
       "    <tr style=\"text-align: right;\">\n",
       "      <th></th>\n",
       "      <th>company</th>\n",
       "      <th>filing_date_a</th>\n",
       "      <th>filing_date_b</th>\n",
       "      <th>revenue_a</th>\n",
       "      <th>revenue_b</th>\n",
       "      <th>net_income_a</th>\n",
       "      <th>net_income_b</th>\n",
       "    </tr>\n",
       "  </thead>\n",
       "  <tbody>\n",
       "    <tr>\n",
       "      <th>0</th>\n",
       "      <td>Company Y</td>\n",
       "      <td>2021-03-01</td>\n",
       "      <td>2021-02-28</td>\n",
       "      <td>800</td>\n",
       "      <td>810</td>\n",
       "      <td>80</td>\n",
       "      <td>82</td>\n",
       "    </tr>\n",
       "  </tbody>\n",
       "</table>\n",
       "</div>"
      ],
      "text/plain": [
       "     company filing_date_a filing_date_b  revenue_a  revenue_b  net_income_a  \\\n",
       "0  Company Y    2021-03-01    2021-02-28        800        810            80   \n",
       "\n",
       "   net_income_b  \n",
       "0            82  "
      ]
     },
     "execution_count": 15,
     "metadata": {},
     "output_type": "execute_result"
    }
   ],
   "source": [
    "query = \"\"\"\n",
    "SELECT\n",
    "    vendor_a.company,\n",
    "    vendor_a.filing_date AS filing_date_a,\n",
    "    vendor_b.filing_date AS filing_date_b,\n",
    "    vendor_a.revenue AS revenue_a,\n",
    "    vendor_b.revenue AS revenue_b,\n",
    "    vendor_a.net_income AS net_income_a,\n",
    "    vendor_b.net_income AS net_income_b\n",
    "FROM vendor_a\n",
    "ASOF JOIN vendor_b\n",
    "ON vendor_a.company = vendor_b.company\n",
    "AND vendor_a.filing_date > vendor_b.filing_date\n",
    "\"\"\"\n",
    "merged_duckdb = con.execute(query).df()\n",
    "merged_duckdb"
   ]
  },
  {
   "cell_type": "markdown",
   "id": "e9c9a221-b54a-47d2-9c44-37d2c4fbb484",
   "metadata": {
    "editable": true,
    "slideshow": {
     "slide_type": "slide"
    },
    "tags": []
   },
   "source": [
    "# Let's find the needle in haystack"
   ]
  },
  {
   "cell_type": "code",
   "execution_count": 21,
   "id": "5e998cbd-1500-41e6-90e2-c0859df119b3",
   "metadata": {
    "editable": true,
    "slideshow": {
     "slide_type": "slide"
    },
    "tags": []
   },
   "outputs": [
    {
     "name": "stdout",
     "output_type": "stream",
     "text": [
      "File 1 created with shape: (5000000, 4)\n",
      "File 2 created with shape: (5000001, 4)\n"
     ]
    }
   ],
   "source": [
    "# Parameters and setup\n",
    "num_rows = 5_000_000  # Adjusted to 1 million\n",
    "np.random.seed(0)\n",
    "\n",
    "# Generate data\n",
    "df1 = pd.DataFrame({\n",
    "    'company_id': np.random.randint(1, 100_000, size=num_rows),\n",
    "    'filing_date': pd.date_range('2021-01-01', periods=num_rows, freq='min'),\n",
    "    'revenue': np.random.uniform(1000, 1_000_000, size=num_rows)\n",
    "})\n",
    "df1['net_income'] = df1['revenue'] * np.random.uniform(0.05, 0.15, size=num_rows)\n",
    "\n",
    "# Save File 1\n",
    "df1.to_parquet('file1.parquet')\n",
    "print(\"File 1 created with shape:\", df1.shape)\n",
    "\n",
    "# Copy and extend for File 2\n",
    "df2 = pd.concat([\n",
    "    df1,\n",
    "    pd.DataFrame({'company_id': [100_001], 'filing_date': [pd.Timestamp('2021-12-31')], 'revenue': [500_000], 'net_income': [50_000]})\n",
    "], ignore_index=True)\n",
    "\n",
    "# Save File 2\n",
    "df2.to_parquet('file2.parquet')\n",
    "print(\"File 2 created with shape:\", df2.shape)"
   ]
  },
  {
   "cell_type": "code",
   "execution_count": 18,
   "id": "60bc9348-0cff-44c3-b782-b228975c7114",
   "metadata": {
    "editable": true,
    "slideshow": {
     "slide_type": ""
    },
    "tags": []
   },
   "outputs": [
    {
     "data": {
      "text/plain": [
       "<duckdb.duckdb.DuckDBPyConnection at 0x7143c569e7f0>"
      ]
     },
     "execution_count": 18,
     "metadata": {},
     "output_type": "execute_result"
    }
   ],
   "source": [
    "# Register Parquet files as tables in DuckDB\n",
    "con.execute(\"\"\"\n",
    "CREATE TABLE df1 AS SELECT * FROM 'file1.parquet';\n",
    "CREATE TABLE df2 AS SELECT * FROM 'file2.parquet';\n",
    "\"\"\")"
   ]
  },
  {
   "cell_type": "code",
   "execution_count": 19,
   "id": "bef3c4e9-e35d-4ba9-bbbc-bfd4cb8e5d66",
   "metadata": {
    "editable": true,
    "slideshow": {
     "slide_type": "slide"
    },
    "tags": []
   },
   "outputs": [
    {
     "name": "stdout",
     "output_type": "stream",
     "text": [
      "DuckDB anti-join completed in 0.01 seconds.\n",
      "DuckDB memory usage: 0.12 MB\n",
      "Additional rows found: 1\n"
     ]
    }
   ],
   "source": [
    "start_time = time.time()\n",
    "\n",
    "# Measure initial memory usage\n",
    "process = psutil.Process(os.getpid())\n",
    "mem_before = process.memory_info().rss / 1024 ** 2  # Memory in MB\n",
    "\n",
    "# Perform anti-join to find rows in df2 not in df1\n",
    "result_duckdb = con.execute(\"\"\"\n",
    "SELECT * FROM df2\n",
    "EXCEPT\n",
    "SELECT * FROM df1\n",
    "\"\"\").df()\n",
    "\n",
    "end_time = time.time()\n",
    "duckdb_time = end_time - start_time\n",
    "\n",
    "# Measure final memory usage\n",
    "mem_after = process.memory_info().rss / 1024 ** 2  # Memory in MB\n",
    "mem_usage_duckdb = mem_after - mem_before\n",
    "\n",
    "print(\"DuckDB anti-join completed in {:.2f} seconds.\".format(duckdb_time))\n",
    "print(\"DuckDB memory usage: {:.2f} MB\".format(mem_usage_duckdb))\n",
    "print(\"Additional rows found:\", result_duckdb.shape[0])"
   ]
  },
  {
   "cell_type": "code",
   "execution_count": 20,
   "id": "eea44bd4-abda-4da7-b952-1598af7b72a1",
   "metadata": {
    "editable": true,
    "slideshow": {
     "slide_type": "slide"
    },
    "tags": []
   },
   "outputs": [
    {
     "name": "stdout",
     "output_type": "stream",
     "text": [
      "Pandas merge completed in 12.79 seconds.\n",
      "Pandas memory usage: 700.36 MB\n",
      "Additional rows found: 1\n"
     ]
    }
   ],
   "source": [
    "start_time = time.time()\n",
    "process = psutil.Process(os.getpid())\n",
    "mem_before = process.memory_info().rss / 1024 ** 2  # Memory in MB\n",
    "df1_pandas = pd.read_parquet('file1.parquet')\n",
    "df2_pandas = pd.read_parquet('file2.parquet')\n",
    "df_diff = df2_pandas.merge(\n",
    "    df1_pandas,\n",
    "    on=['company_id', 'filing_date', 'revenue', 'net_income'],\n",
    "    how='outer',\n",
    "    indicator=True\n",
    ")\n",
    "additional_rows = df_diff[df_diff['_merge'] == 'left_only']\n",
    "end_time = time.time()\n",
    "pandas_time = end_time - start_time\n",
    "mem_after = process.memory_info().rss / 1024 ** 2  # Memory in MB\n",
    "mem_usage_pandas = mem_after - mem_before\n",
    "print(\"Pandas merge completed in {:.2f} seconds.\".format(pandas_time))\n",
    "print(\"Pandas memory usage: {:.2f} MB\".format(mem_usage_pandas))\n",
    "print(\"Additional rows found:\", additional_rows.shape[0])"
   ]
  }
 ],
 "metadata": {
  "kernelspec": {
   "display_name": "Python 3 (ipykernel)",
   "language": "python",
   "name": "python3"
  },
  "language_info": {
   "codemirror_mode": {
    "name": "ipython",
    "version": 3
   },
   "file_extension": ".py",
   "mimetype": "text/x-python",
   "name": "python",
   "nbconvert_exporter": "python",
   "pygments_lexer": "ipython3",
   "version": "3.12.1"
  }
 },
 "nbformat": 4,
 "nbformat_minor": 5
}
